{
 "cells": [
  {
   "cell_type": "code",
   "execution_count": 1,
   "metadata": {},
   "outputs": [
    {
     "name": "stderr",
     "output_type": "stream",
     "text": [
      "s:\\Personal Projects\\Smol agents\\smol_env\\Lib\\site-packages\\tqdm\\auto.py:21: TqdmWarning: IProgress not found. Please update jupyter and ipywidgets. See https://ipywidgets.readthedocs.io/en/stable/user_install.html\n",
      "  from .autonotebook import tqdm as notebook_tqdm\n",
      "None of PyTorch, TensorFlow >= 2.0, or Flax have been found. Models won't be available and only tokenizers, configuration and file/data utilities can be used.\n",
      "s:\\Personal Projects\\Smol agents\\smol_env\\Lib\\site-packages\\pydantic\\_internal\\_config.py:345: UserWarning: Valid config keys have changed in V2:\n",
      "* 'fields' has been removed\n",
      "  warnings.warn(message, UserWarning)\n"
     ]
    },
    {
     "data": {
      "text/html": [
       "<pre style=\"white-space:pre;overflow-x:auto;line-height:normal;font-family:Menlo,'DejaVu Sans Mono',consolas,'Courier New',monospace\"><span style=\"color: #d4b702; text-decoration-color: #d4b702\">╭────────────────────────────────────────────────────────────────────────────────────────────── </span><span style=\"color: #d4b702; text-decoration-color: #d4b702; font-weight: bold\">New run</span><span style=\"color: #d4b702; text-decoration-color: #d4b702\"> ───────────────────────────────────────────────────────────────────────────────────────────────╮</span>\n",
       "<span style=\"color: #d4b702; text-decoration-color: #d4b702\">│</span>                                                                                                                                                                                                      <span style=\"color: #d4b702; text-decoration-color: #d4b702\">│</span>\n",
       "<span style=\"color: #d4b702; text-decoration-color: #d4b702\">│</span> <span style=\"font-weight: bold\">lets assume its possible to fly using plane to then moon how many hrs it will take to reach moon?</span>                                                                                                    <span style=\"color: #d4b702; text-decoration-color: #d4b702\">│</span>\n",
       "<span style=\"color: #d4b702; text-decoration-color: #d4b702\">│</span>                                                                                                                                                                                                      <span style=\"color: #d4b702; text-decoration-color: #d4b702\">│</span>\n",
       "<span style=\"color: #d4b702; text-decoration-color: #d4b702\">╰─ HfApiModel - Qwen/Qwen2.5-Coder-32B-Instruct ───────────────────────────────────────────────────────────────────────────────────────────────────────────────────────────────────────────────────────╯</span>\n",
       "</pre>\n"
      ],
      "text/plain": [
       "\u001b[38;2;212;183;2m╭─\u001b[0m\u001b[38;2;212;183;2m─────────────────────────────────────────────────────────────────────────────────────────────\u001b[0m\u001b[38;2;212;183;2m \u001b[0m\u001b[1;38;2;212;183;2mNew run\u001b[0m\u001b[38;2;212;183;2m \u001b[0m\u001b[38;2;212;183;2m──────────────────────────────────────────────────────────────────────────────────────────────\u001b[0m\u001b[38;2;212;183;2m─╮\u001b[0m\n",
       "\u001b[38;2;212;183;2m│\u001b[0m                                                                                                                                                                                                      \u001b[38;2;212;183;2m│\u001b[0m\n",
       "\u001b[38;2;212;183;2m│\u001b[0m \u001b[1mlets assume its possible to fly using plane to then moon how many hrs it will take to reach moon?\u001b[0m                                                                                                    \u001b[38;2;212;183;2m│\u001b[0m\n",
       "\u001b[38;2;212;183;2m│\u001b[0m                                                                                                                                                                                                      \u001b[38;2;212;183;2m│\u001b[0m\n",
       "\u001b[38;2;212;183;2m╰─\u001b[0m\u001b[38;2;212;183;2m HfApiModel - Qwen/Qwen2.5-Coder-32B-Instruct \u001b[0m\u001b[38;2;212;183;2m──────────────────────────────────────────────────────────────────────────────────────────────────────────────────────────────────────────────────────\u001b[0m\u001b[38;2;212;183;2m─╯\u001b[0m\n"
      ]
     },
     "metadata": {},
     "output_type": "display_data"
    },
    {
     "data": {
      "text/html": [
       "<pre style=\"white-space:pre;overflow-x:auto;line-height:normal;font-family:Menlo,'DejaVu Sans Mono',consolas,'Courier New',monospace\"><span style=\"color: #d4b702; text-decoration-color: #d4b702\">━━━━━━━━━━━━━━━━━━━━━━━━━━━━━━━━━━━━━━━━━━━━━━━━━━━━━━━━━━━━━━━━━━━━━━━━━━━━━━━━━━━━━━━━━━━━━━━━ </span><span style=\"font-weight: bold\">Step </span><span style=\"color: #008080; text-decoration-color: #008080; font-weight: bold\">0</span><span style=\"color: #d4b702; text-decoration-color: #d4b702\"> ━━━━━━━━━━━━━━━━━━━━━━━━━━━━━━━━━━━━━━━━━━━━━━━━━━━━━━━━━━━━━━━━━━━━━━━━━━━━━━━━━━━━━━━━━━━━━━━━</span>\n",
       "</pre>\n"
      ],
      "text/plain": [
       "\u001b[38;2;212;183;2m━━━━━━━━━━━━━━━━━━━━━━━━━━━━━━━━━━━━━━━━━━━━━━━━━━━━━━━━━━━━━━━━━━━━━━━━━━━━━━━━━━━━━━━━━━━━━━━━ \u001b[0m\u001b[1mStep \u001b[0m\u001b[1;36m0\u001b[0m\u001b[38;2;212;183;2m ━━━━━━━━━━━━━━━━━━━━━━━━━━━━━━━━━━━━━━━━━━━━━━━━━━━━━━━━━━━━━━━━━━━━━━━━━━━━━━━━━━━━━━━━━━━━━━━━\u001b[0m\n"
      ]
     },
     "metadata": {},
     "output_type": "display_data"
    },
    {
     "data": {
      "text/html": [
       "<pre style=\"white-space:pre;overflow-x:auto;line-height:normal;font-family:Menlo,'DejaVu Sans Mono',consolas,'Courier New',monospace\"> ─ <span style=\"font-weight: bold\">Executing this code:</span> ─────────────────────────────────────────────────────────────────────────────────────────────────────────────────────────────────────────────────────────────────────────────── \n",
       "  <span style=\"color: #f8f8f2; text-decoration-color: #f8f8f2; background-color: #272822\">distance_to_moon </span><span style=\"color: #ff4689; text-decoration-color: #ff4689; background-color: #272822\">=</span><span style=\"color: #f8f8f2; text-decoration-color: #f8f8f2; background-color: #272822\"> web_search(query</span><span style=\"color: #ff4689; text-decoration-color: #ff4689; background-color: #272822\">=</span><span style=\"color: #e6db74; text-decoration-color: #e6db74; background-color: #272822\">\"distance from Earth to Moon\"</span><span style=\"color: #f8f8f2; text-decoration-color: #f8f8f2; background-color: #272822\">)</span><span style=\"background-color: #272822\">                                                                                                                                  </span>  \n",
       "  <span style=\"color: #f8f8f2; text-decoration-color: #f8f8f2; background-color: #272822\">plane_speed </span><span style=\"color: #ff4689; text-decoration-color: #ff4689; background-color: #272822\">=</span><span style=\"color: #f8f8f2; text-decoration-color: #f8f8f2; background-color: #272822\"> web_search(query</span><span style=\"color: #ff4689; text-decoration-color: #ff4689; background-color: #272822\">=</span><span style=\"color: #e6db74; text-decoration-color: #e6db74; background-color: #272822\">\"average speed of a plane\"</span><span style=\"color: #f8f8f2; text-decoration-color: #f8f8f2; background-color: #272822\">)</span><span style=\"background-color: #272822\">                                                                                                                                          </span>  \n",
       "  <span style=\"color: #f8f8f2; text-decoration-color: #f8f8f2; background-color: #272822\">print(</span><span style=\"color: #e6db74; text-decoration-color: #e6db74; background-color: #272822\">\"Distance to Moon:\"</span><span style=\"color: #f8f8f2; text-decoration-color: #f8f8f2; background-color: #272822\">, distance_to_moon)</span><span style=\"background-color: #272822\">                                                                                                                                                        </span>  \n",
       "  <span style=\"color: #f8f8f2; text-decoration-color: #f8f8f2; background-color: #272822\">print(</span><span style=\"color: #e6db74; text-decoration-color: #e6db74; background-color: #272822\">\"Average speed of a plane:\"</span><span style=\"color: #f8f8f2; text-decoration-color: #f8f8f2; background-color: #272822\">, plane_speed)</span><span style=\"background-color: #272822\">                                                                                                                                                     </span>  \n",
       " ────────────────────────────────────────────────────────────────────────────────────────────────────────────────────────────────────────────────────────────────────────────────────────────────────── \n",
       "</pre>\n"
      ],
      "text/plain": [
       " ─ \u001b[1mExecuting this code:\u001b[0m ─────────────────────────────────────────────────────────────────────────────────────────────────────────────────────────────────────────────────────────────────────────────── \n",
       "  \u001b[38;2;248;248;242;48;2;39;40;34mdistance_to_moon\u001b[0m\u001b[38;2;248;248;242;48;2;39;40;34m \u001b[0m\u001b[38;2;255;70;137;48;2;39;40;34m=\u001b[0m\u001b[38;2;248;248;242;48;2;39;40;34m \u001b[0m\u001b[38;2;248;248;242;48;2;39;40;34mweb_search\u001b[0m\u001b[38;2;248;248;242;48;2;39;40;34m(\u001b[0m\u001b[38;2;248;248;242;48;2;39;40;34mquery\u001b[0m\u001b[38;2;255;70;137;48;2;39;40;34m=\u001b[0m\u001b[38;2;230;219;116;48;2;39;40;34m\"\u001b[0m\u001b[38;2;230;219;116;48;2;39;40;34mdistance from Earth to Moon\u001b[0m\u001b[38;2;230;219;116;48;2;39;40;34m\"\u001b[0m\u001b[38;2;248;248;242;48;2;39;40;34m)\u001b[0m\u001b[48;2;39;40;34m                                                                                                                                  \u001b[0m  \n",
       "  \u001b[38;2;248;248;242;48;2;39;40;34mplane_speed\u001b[0m\u001b[38;2;248;248;242;48;2;39;40;34m \u001b[0m\u001b[38;2;255;70;137;48;2;39;40;34m=\u001b[0m\u001b[38;2;248;248;242;48;2;39;40;34m \u001b[0m\u001b[38;2;248;248;242;48;2;39;40;34mweb_search\u001b[0m\u001b[38;2;248;248;242;48;2;39;40;34m(\u001b[0m\u001b[38;2;248;248;242;48;2;39;40;34mquery\u001b[0m\u001b[38;2;255;70;137;48;2;39;40;34m=\u001b[0m\u001b[38;2;230;219;116;48;2;39;40;34m\"\u001b[0m\u001b[38;2;230;219;116;48;2;39;40;34maverage speed of a plane\u001b[0m\u001b[38;2;230;219;116;48;2;39;40;34m\"\u001b[0m\u001b[38;2;248;248;242;48;2;39;40;34m)\u001b[0m\u001b[48;2;39;40;34m                                                                                                                                          \u001b[0m  \n",
       "  \u001b[38;2;248;248;242;48;2;39;40;34mprint\u001b[0m\u001b[38;2;248;248;242;48;2;39;40;34m(\u001b[0m\u001b[38;2;230;219;116;48;2;39;40;34m\"\u001b[0m\u001b[38;2;230;219;116;48;2;39;40;34mDistance to Moon:\u001b[0m\u001b[38;2;230;219;116;48;2;39;40;34m\"\u001b[0m\u001b[38;2;248;248;242;48;2;39;40;34m,\u001b[0m\u001b[38;2;248;248;242;48;2;39;40;34m \u001b[0m\u001b[38;2;248;248;242;48;2;39;40;34mdistance_to_moon\u001b[0m\u001b[38;2;248;248;242;48;2;39;40;34m)\u001b[0m\u001b[48;2;39;40;34m                                                                                                                                                        \u001b[0m  \n",
       "  \u001b[38;2;248;248;242;48;2;39;40;34mprint\u001b[0m\u001b[38;2;248;248;242;48;2;39;40;34m(\u001b[0m\u001b[38;2;230;219;116;48;2;39;40;34m\"\u001b[0m\u001b[38;2;230;219;116;48;2;39;40;34mAverage speed of a plane:\u001b[0m\u001b[38;2;230;219;116;48;2;39;40;34m\"\u001b[0m\u001b[38;2;248;248;242;48;2;39;40;34m,\u001b[0m\u001b[38;2;248;248;242;48;2;39;40;34m \u001b[0m\u001b[38;2;248;248;242;48;2;39;40;34mplane_speed\u001b[0m\u001b[38;2;248;248;242;48;2;39;40;34m)\u001b[0m\u001b[48;2;39;40;34m                                                                                                                                                     \u001b[0m  \n",
       " ────────────────────────────────────────────────────────────────────────────────────────────────────────────────────────────────────────────────────────────────────────────────────────────────────── \n"
      ]
     },
     "metadata": {},
     "output_type": "display_data"
    },
    {
     "data": {
      "text/html": [
       "<pre style=\"white-space:pre;overflow-x:auto;line-height:normal;font-family:Menlo,'DejaVu Sans Mono',consolas,'Courier New',monospace\"><span style=\"font-weight: bold\">Execution logs:</span>\n",
       "Distance to Moon: ## Search Results\n",
       "\n",
       "[Lunar distance - Wikipedia](https://en.wikipedia.org/wiki/Lunar_distance)\n",
       "Lunar distance is the semi-major axis of the geocentric lunar orbit, which is about 385,000 km (239,000 mi) on average. The actual distance varies over the course of the orbit, influenced by the Sun \n",
       "and other factors, and can be measured by laser ranging or parallax.\n",
       "\n",
       "[How long does it take to get to the moon? | Space](https://www.space.com/how-long-does-it-take-to-get-to-the-moon)\n",
       "But because the moon does not orbit Earth in a perfect circle, its distance from Earth is not constant. At its closest point to Earth — known as perigee — the moon is about 226,000 miles ...\n",
       "\n",
       "[How far is the moon from Earth? | Space](https://www.space.com/18145-how-far-is-the-moon.html)\n",
       "Learn about the average, shortest and greatest distances between the moon and Earth, and how they affect tides and eclipses. Find out how long it takes to get to the moon and how it is drifting away \n",
       "from us.\n",
       "\n",
       "[Moon - Wikipedia](https://en.wikipedia.org/wiki/Moon)\n",
       "The Moon is Earth's only natural satellite. It orbits at an average distance of 384,400 km (238,900 mi), about 30 times the diameter of Earth. Tidal forces between Earth and the Moon have synchronized\n",
       "the Moon's orbital period (lunar month) with its rotation period at 29.5 Earth days, causing the same side of the Moon to always face Earth. The Moon's gravitational pull is the main driver of ...\n",
       "\n",
       "[How Far Away Is the Moon? | NASA Space Place - NASA Science for Kids](https://spaceplace.nasa.gov/moon-distance/en/)\n",
       "Learn the average and minimum/maximum distances of the Moon from Earth, and how to compare them with Earth's size. Find out why the Moon looks close but is actually far away, and try an activity to \n",
       "see for yourself.\n",
       "\n",
       "[How Far Is The Moon From Earth? - WorldAtlas](https://www.worldatlas.com/space/how-far-is-the-moon-from-earth.html)\n",
       "The moon's distance from the Earth changes over its orbit, ranging from 226,000 to 251,000 miles. Learn how this affects tides, super moons and solar eclipses.\n",
       "\n",
       "[How far away is the Moon? - Royal Museums Greenwich](https://www.rmg.co.uk/stories/topics/how-far-away-moon)\n",
       "Learn about the average, apogee and perigee distances between the Earth and the Moon, and how they affect the tides and the appearance of the Moon. Find out how long it takes to get to the Moon from \n",
       "the Earth and how the Moon orbits the Sun.\n",
       "\n",
       "[How far away is the moon? - Live Science](https://www.livescience.com/space/the-moon/how-far-away-is-the-moon)\n",
       "The distance at apogee is so great, the solar system's seven other planets (Mercury, Venus, Mars, Jupiter, Saturn, Uranus and Neptune) could fit between Earth and the moon, astronomer Phil Plait ...\n",
       "\n",
       "[How Far Away Is The Moon Now? Real-Time Distance (Updated Daily) - StarLust](https://starlust.org/how-far-away-is-the-moon-now/)\n",
       "Find out the current distance of the Moon from Earth in miles or kilometers, updated daily from NASA's JPL API. Learn about the Moon's orbital parameters, how long it takes to reach the Moon, and the \n",
       "distance to other planets.\n",
       "\n",
       "[How far is the Moon from Earth: Distance in Miles / Km / Au](https://astrophotographylens.com/blogs/astro/how-far-is-the-moon)\n",
       "Learn how far the moon is from Earth on average, how it changes due to its elliptical orbit, and why it is moving away from us. Find out how the moon's distance affects solar eclipses and other \n",
       "interesting facts about the moon.\n",
       "Average speed of a plane: ## Search Results\n",
       "\n",
       "[How Fast do Planes Fly: Commercial, Private &amp; Military](https://airadvisor.com/en/blog/how-fast-do-planes-fly)\n",
       "Learn about the average cruising and take-off speeds of different types of aircraft, from commercial planes to private jets to military aircraft. Find out how factors such as weight, runway, wind, and\n",
       "temperature affect the speed of a plane.\n",
       "\n",
       "[How Fast Do Commercial Planes Fly? - FLYING Magazine](https://www.flyingmag.com/guides/how-fast-do-commerical-planes-fly/)\n",
       "At takeoff, the average speed of a commercial airplane is anywhere between 160 and 180 mph (140 to 156 knots). Cruising For most commercial airliners, the airplane's cruising speed ranges ...\n",
       "\n",
       "[Exploring the Average Speed of Airplane: Facts and Figures](https://myaircraftcost.com/average-speed-of-airplane-key-insights-and-data/)\n",
       "Boeing 737: Average speed of about 530 mph. Airbus A320: Average speed around 540 mph. Boeing 777: Average speed approximately 590 mph. Factors Influencing Average Speed. The average speed of an \n",
       "airplane is not a fixed number and can be influenced by a variety of factors:\n",
       "\n",
       "[How Fast Planes Fly (Takeoff, Cruising &amp; Landing)](https://executiveflyers.com/how-fast-do-planes-fly/)\n",
       "Learn how fast planes fly depending on their classification, engine, weight and aerodynamics. Find out the average speed of commercial, private, fighter and single-engine planes during takeoff, \n",
       "cruising and landing.\n",
       "\n",
       "[Jet Speeds Uncovered: How Fast Do Commercial Airplanes Fly? - Thrust Flight](https://www.thrustflight.com/how-fast-do-commerical-airplanes-fly/)\n",
       "The average cruising speed for a long-haul commercial passenger aircraft ranges from approximately 880 to 926 km/h. Or 475 to 500 knots and 547 to 575 mph. ... Fundamentally, the speed that matters to\n",
       "airline route planners and passengers is the speed the plane flies across the ground from Point A to Point B.\n",
       "\n",
       "[How Fast Does The Average Plane Travel](https://travelwiththegreens.com/how-quickly-does-a-typical-airplane-fly.html)\n",
       "At takeoff, the average speed of a commercial airplane is anywhere between 160 and 180 mph (140 to 156 knots). Cruising for most commercial airliners, the average speed is between 500 and 700 mph (804\n",
       "and 1126 km/h), depending on the type of plane. The fastest commercial airplane is the Airbus A380, typically used for long distances.\n",
       "\n",
       "[How fast do planes fly? Exploring airplane speeds - AeroTime](https://www.aerotime.aero/articles/how-fast-do-planes-actually-fly-exploring-airplane-speeds)\n",
       "Learn about different types of aircraft speed measurement, such as Mach number, mph, and kt, and how they vary depending on the type of aircraft, altitude, and weather conditions. Discover the fastest\n",
       "commercial, military, and private jets in the world and their top speeds.\n",
       "\n",
       "[How Fast Do Passenger Planes Fly? - Simple Flying](https://simpleflying.com/how-fast-do-passenger-planes-fly/)\n",
       "Ground speed is the time taken by the aircraft to cover a certain distance over the ground. At about 35,000 ft, a passenger plane can have an average ground speed of around 300-600 knots. While \n",
       "commercial aircraft may cruise at almost similar airspeeds, the headwinds and tailwinds typically affect the speed at which it passes over the ground.\n",
       "\n",
       "[What Is The Average Speed A Plane Travels](https://travelwiththegreens.com/what-is-the-typical-speed-of-a-plane.html)\n",
       "At about 35,000 feet, a passenger plane can have an average ground speed of around 300-600 knots. Commercial aircraft may cruise at almost similar speeds. At takeoff, the average speed of a commercial\n",
       "airplane is anywhere between 160 and 180 mph (140 to 156 knots). As a general rule, airplanes can fly from 550 to 580 miles per hour, although ...\n",
       "\n",
       "[How Fast Does An Airplane Go In The Different Stages Of A Flight?](https://simpleflying.com/airplane-speed-guide/)\n",
       "A typical jet's average takeoff speed is between 240 to 285 kilometers (149 - 177 miles) per hour, compared to a Cessna 150; these can take off when hitting the 100 kilometers (62 miles) per hour \n",
       "mark. Aircraft designed for high-speed operations, including jetliners, frequently have difficulty providing enough lift during takeoff. This is why ...\n",
       "\n",
       "Out: None\n",
       "</pre>\n"
      ],
      "text/plain": [
       "\u001b[1mExecution logs:\u001b[0m\n",
       "Distance to Moon: ## Search Results\n",
       "\n",
       "[Lunar distance - Wikipedia](https://en.wikipedia.org/wiki/Lunar_distance)\n",
       "Lunar distance is the semi-major axis of the geocentric lunar orbit, which is about 385,000 km (239,000 mi) on average. The actual distance varies over the course of the orbit, influenced by the Sun \n",
       "and other factors, and can be measured by laser ranging or parallax.\n",
       "\n",
       "[How long does it take to get to the moon? | Space](https://www.space.com/how-long-does-it-take-to-get-to-the-moon)\n",
       "But because the moon does not orbit Earth in a perfect circle, its distance from Earth is not constant. At its closest point to Earth — known as perigee — the moon is about 226,000 miles ...\n",
       "\n",
       "[How far is the moon from Earth? | Space](https://www.space.com/18145-how-far-is-the-moon.html)\n",
       "Learn about the average, shortest and greatest distances between the moon and Earth, and how they affect tides and eclipses. Find out how long it takes to get to the moon and how it is drifting away \n",
       "from us.\n",
       "\n",
       "[Moon - Wikipedia](https://en.wikipedia.org/wiki/Moon)\n",
       "The Moon is Earth's only natural satellite. It orbits at an average distance of 384,400 km (238,900 mi), about 30 times the diameter of Earth. Tidal forces between Earth and the Moon have synchronized\n",
       "the Moon's orbital period (lunar month) with its rotation period at 29.5 Earth days, causing the same side of the Moon to always face Earth. The Moon's gravitational pull is the main driver of ...\n",
       "\n",
       "[How Far Away Is the Moon? | NASA Space Place - NASA Science for Kids](https://spaceplace.nasa.gov/moon-distance/en/)\n",
       "Learn the average and minimum/maximum distances of the Moon from Earth, and how to compare them with Earth's size. Find out why the Moon looks close but is actually far away, and try an activity to \n",
       "see for yourself.\n",
       "\n",
       "[How Far Is The Moon From Earth? - WorldAtlas](https://www.worldatlas.com/space/how-far-is-the-moon-from-earth.html)\n",
       "The moon's distance from the Earth changes over its orbit, ranging from 226,000 to 251,000 miles. Learn how this affects tides, super moons and solar eclipses.\n",
       "\n",
       "[How far away is the Moon? - Royal Museums Greenwich](https://www.rmg.co.uk/stories/topics/how-far-away-moon)\n",
       "Learn about the average, apogee and perigee distances between the Earth and the Moon, and how they affect the tides and the appearance of the Moon. Find out how long it takes to get to the Moon from \n",
       "the Earth and how the Moon orbits the Sun.\n",
       "\n",
       "[How far away is the moon? - Live Science](https://www.livescience.com/space/the-moon/how-far-away-is-the-moon)\n",
       "The distance at apogee is so great, the solar system's seven other planets (Mercury, Venus, Mars, Jupiter, Saturn, Uranus and Neptune) could fit between Earth and the moon, astronomer Phil Plait ...\n",
       "\n",
       "[How Far Away Is The Moon Now? Real-Time Distance (Updated Daily) - StarLust](https://starlust.org/how-far-away-is-the-moon-now/)\n",
       "Find out the current distance of the Moon from Earth in miles or kilometers, updated daily from NASA's JPL API. Learn about the Moon's orbital parameters, how long it takes to reach the Moon, and the \n",
       "distance to other planets.\n",
       "\n",
       "[How far is the Moon from Earth: Distance in Miles / Km / Au](https://astrophotographylens.com/blogs/astro/how-far-is-the-moon)\n",
       "Learn how far the moon is from Earth on average, how it changes due to its elliptical orbit, and why it is moving away from us. Find out how the moon's distance affects solar eclipses and other \n",
       "interesting facts about the moon.\n",
       "Average speed of a plane: ## Search Results\n",
       "\n",
       "[How Fast do Planes Fly: Commercial, Private & Military](https://airadvisor.com/en/blog/how-fast-do-planes-fly)\n",
       "Learn about the average cruising and take-off speeds of different types of aircraft, from commercial planes to private jets to military aircraft. Find out how factors such as weight, runway, wind, and\n",
       "temperature affect the speed of a plane.\n",
       "\n",
       "[How Fast Do Commercial Planes Fly? - FLYING Magazine](https://www.flyingmag.com/guides/how-fast-do-commerical-planes-fly/)\n",
       "At takeoff, the average speed of a commercial airplane is anywhere between 160 and 180 mph (140 to 156 knots). Cruising For most commercial airliners, the airplane's cruising speed ranges ...\n",
       "\n",
       "[Exploring the Average Speed of Airplane: Facts and Figures](https://myaircraftcost.com/average-speed-of-airplane-key-insights-and-data/)\n",
       "Boeing 737: Average speed of about 530 mph. Airbus A320: Average speed around 540 mph. Boeing 777: Average speed approximately 590 mph. Factors Influencing Average Speed. The average speed of an \n",
       "airplane is not a fixed number and can be influenced by a variety of factors:\n",
       "\n",
       "[How Fast Planes Fly (Takeoff, Cruising & Landing)](https://executiveflyers.com/how-fast-do-planes-fly/)\n",
       "Learn how fast planes fly depending on their classification, engine, weight and aerodynamics. Find out the average speed of commercial, private, fighter and single-engine planes during takeoff, \n",
       "cruising and landing.\n",
       "\n",
       "[Jet Speeds Uncovered: How Fast Do Commercial Airplanes Fly? - Thrust Flight](https://www.thrustflight.com/how-fast-do-commerical-airplanes-fly/)\n",
       "The average cruising speed for a long-haul commercial passenger aircraft ranges from approximately 880 to 926 km/h. Or 475 to 500 knots and 547 to 575 mph. ... Fundamentally, the speed that matters to\n",
       "airline route planners and passengers is the speed the plane flies across the ground from Point A to Point B.\n",
       "\n",
       "[How Fast Does The Average Plane Travel](https://travelwiththegreens.com/how-quickly-does-a-typical-airplane-fly.html)\n",
       "At takeoff, the average speed of a commercial airplane is anywhere between 160 and 180 mph (140 to 156 knots). Cruising for most commercial airliners, the average speed is between 500 and 700 mph (804\n",
       "and 1126 km/h), depending on the type of plane. The fastest commercial airplane is the Airbus A380, typically used for long distances.\n",
       "\n",
       "[How fast do planes fly? Exploring airplane speeds - AeroTime](https://www.aerotime.aero/articles/how-fast-do-planes-actually-fly-exploring-airplane-speeds)\n",
       "Learn about different types of aircraft speed measurement, such as Mach number, mph, and kt, and how they vary depending on the type of aircraft, altitude, and weather conditions. Discover the fastest\n",
       "commercial, military, and private jets in the world and their top speeds.\n",
       "\n",
       "[How Fast Do Passenger Planes Fly? - Simple Flying](https://simpleflying.com/how-fast-do-passenger-planes-fly/)\n",
       "Ground speed is the time taken by the aircraft to cover a certain distance over the ground. At about 35,000 ft, a passenger plane can have an average ground speed of around 300-600 knots. While \n",
       "commercial aircraft may cruise at almost similar airspeeds, the headwinds and tailwinds typically affect the speed at which it passes over the ground.\n",
       "\n",
       "[What Is The Average Speed A Plane Travels](https://travelwiththegreens.com/what-is-the-typical-speed-of-a-plane.html)\n",
       "At about 35,000 feet, a passenger plane can have an average ground speed of around 300-600 knots. Commercial aircraft may cruise at almost similar speeds. At takeoff, the average speed of a commercial\n",
       "airplane is anywhere between 160 and 180 mph (140 to 156 knots). As a general rule, airplanes can fly from 550 to 580 miles per hour, although ...\n",
       "\n",
       "[How Fast Does An Airplane Go In The Different Stages Of A Flight?](https://simpleflying.com/airplane-speed-guide/)\n",
       "A typical jet's average takeoff speed is between 240 to 285 kilometers (149 - 177 miles) per hour, compared to a Cessna 150; these can take off when hitting the 100 kilometers (62 miles) per hour \n",
       "mark. Aircraft designed for high-speed operations, including jetliners, frequently have difficulty providing enough lift during takeoff. This is why ...\n",
       "\n",
       "Out: None\n"
      ]
     },
     "metadata": {},
     "output_type": "display_data"
    },
    {
     "data": {
      "text/html": [
       "<pre style=\"white-space:pre;overflow-x:auto;line-height:normal;font-family:Menlo,'DejaVu Sans Mono',consolas,'Courier New',monospace\"><span style=\"color: #7f7f7f; text-decoration-color: #7f7f7f\">[Step 0: Duration 5.60 seconds| Input tokens: 2,057 | Output tokens: 117]</span>\n",
       "</pre>\n"
      ],
      "text/plain": [
       "\u001b[2m[Step 0: Duration 5.60 seconds| Input tokens: 2,057 | Output tokens: 117]\u001b[0m\n"
      ]
     },
     "metadata": {},
     "output_type": "display_data"
    },
    {
     "data": {
      "text/html": [
       "<pre style=\"white-space:pre;overflow-x:auto;line-height:normal;font-family:Menlo,'DejaVu Sans Mono',consolas,'Courier New',monospace\"><span style=\"color: #d4b702; text-decoration-color: #d4b702\">━━━━━━━━━━━━━━━━━━━━━━━━━━━━━━━━━━━━━━━━━━━━━━━━━━━━━━━━━━━━━━━━━━━━━━━━━━━━━━━━━━━━━━━━━━━━━━━━ </span><span style=\"font-weight: bold\">Step </span><span style=\"color: #008080; text-decoration-color: #008080; font-weight: bold\">1</span><span style=\"color: #d4b702; text-decoration-color: #d4b702\"> ━━━━━━━━━━━━━━━━━━━━━━━━━━━━━━━━━━━━━━━━━━━━━━━━━━━━━━━━━━━━━━━━━━━━━━━━━━━━━━━━━━━━━━━━━━━━━━━━</span>\n",
       "</pre>\n"
      ],
      "text/plain": [
       "\u001b[38;2;212;183;2m━━━━━━━━━━━━━━━━━━━━━━━━━━━━━━━━━━━━━━━━━━━━━━━━━━━━━━━━━━━━━━━━━━━━━━━━━━━━━━━━━━━━━━━━━━━━━━━━ \u001b[0m\u001b[1mStep \u001b[0m\u001b[1;36m1\u001b[0m\u001b[38;2;212;183;2m ━━━━━━━━━━━━━━━━━━━━━━━━━━━━━━━━━━━━━━━━━━━━━━━━━━━━━━━━━━━━━━━━━━━━━━━━━━━━━━━━━━━━━━━━━━━━━━━━\u001b[0m\n"
      ]
     },
     "metadata": {},
     "output_type": "display_data"
    },
    {
     "data": {
      "text/html": [
       "<pre style=\"white-space:pre;overflow-x:auto;line-height:normal;font-family:Menlo,'DejaVu Sans Mono',consolas,'Courier New',monospace\"> ─ <span style=\"font-weight: bold\">Executing this code:</span> ─────────────────────────────────────────────────────────────────────────────────────────────────────────────────────────────────────────────────────────────────────────────── \n",
       "  <span style=\"color: #959077; text-decoration-color: #959077; background-color: #272822\"># Average distance from Earth to Moon in kilometers</span><span style=\"background-color: #272822\">                                                                                                                                                 </span>  \n",
       "  <span style=\"color: #f8f8f2; text-decoration-color: #f8f8f2; background-color: #272822\">distance_to_moon_km </span><span style=\"color: #ff4689; text-decoration-color: #ff4689; background-color: #272822\">=</span><span style=\"color: #f8f8f2; text-decoration-color: #f8f8f2; background-color: #272822\"> </span><span style=\"color: #ae81ff; text-decoration-color: #ae81ff; background-color: #272822\">384400</span><span style=\"background-color: #272822\">                                                                                                                                                                        </span>  \n",
       "  <span style=\"background-color: #272822\">                                                                                                                                                                                                    </span>  \n",
       "  <span style=\"color: #959077; text-decoration-color: #959077; background-color: #272822\"># Average cruising speed of a commercial airplane in km/h</span><span style=\"background-color: #272822\">                                                                                                                                           </span>  \n",
       "  <span style=\"color: #f8f8f2; text-decoration-color: #f8f8f2; background-color: #272822\">average_plane_speed_km_h </span><span style=\"color: #ff4689; text-decoration-color: #ff4689; background-color: #272822\">=</span><span style=\"color: #f8f8f2; text-decoration-color: #f8f8f2; background-color: #272822\"> </span><span style=\"color: #ae81ff; text-decoration-color: #ae81ff; background-color: #272822\">900</span><span style=\"color: #f8f8f2; text-decoration-color: #f8f8f2; background-color: #272822\">  </span><span style=\"color: #959077; text-decoration-color: #959077; background-color: #272822\"># Taking the midpoint of 880 to 926 km/h</span><span style=\"background-color: #272822\">                                                                                                                            </span>  \n",
       "  <span style=\"background-color: #272822\">                                                                                                                                                                                                    </span>  \n",
       "  <span style=\"color: #959077; text-decoration-color: #959077; background-color: #272822\"># Calculate the time it would take to travel from Earth to Moon in hours</span><span style=\"background-color: #272822\">                                                                                                                            </span>  \n",
       "  <span style=\"color: #f8f8f2; text-decoration-color: #f8f8f2; background-color: #272822\">time_to_moon_hours </span><span style=\"color: #ff4689; text-decoration-color: #ff4689; background-color: #272822\">=</span><span style=\"color: #f8f8f2; text-decoration-color: #f8f8f2; background-color: #272822\"> distance_to_moon_km </span><span style=\"color: #ff4689; text-decoration-color: #ff4689; background-color: #272822\">/</span><span style=\"color: #f8f8f2; text-decoration-color: #f8f8f2; background-color: #272822\"> average_plane_speed_km_h</span><span style=\"background-color: #272822\">                                                                                                                                 </span>  \n",
       "  <span style=\"color: #f8f8f2; text-decoration-color: #f8f8f2; background-color: #272822\">print(</span><span style=\"color: #e6db74; text-decoration-color: #e6db74; background-color: #272822\">\"Time to reach the Moon using a plane:\"</span><span style=\"color: #f8f8f2; text-decoration-color: #f8f8f2; background-color: #272822\">, time_to_moon_hours, </span><span style=\"color: #e6db74; text-decoration-color: #e6db74; background-color: #272822\">\"hours\"</span><span style=\"color: #f8f8f2; text-decoration-color: #f8f8f2; background-color: #272822\">)</span><span style=\"background-color: #272822\">                                                                                                                         </span>  \n",
       " ────────────────────────────────────────────────────────────────────────────────────────────────────────────────────────────────────────────────────────────────────────────────────────────────────── \n",
       "</pre>\n"
      ],
      "text/plain": [
       " ─ \u001b[1mExecuting this code:\u001b[0m ─────────────────────────────────────────────────────────────────────────────────────────────────────────────────────────────────────────────────────────────────────────────── \n",
       "  \u001b[38;2;149;144;119;48;2;39;40;34m# Average distance from Earth to Moon in kilometers\u001b[0m\u001b[48;2;39;40;34m                                                                                                                                                 \u001b[0m  \n",
       "  \u001b[38;2;248;248;242;48;2;39;40;34mdistance_to_moon_km\u001b[0m\u001b[38;2;248;248;242;48;2;39;40;34m \u001b[0m\u001b[38;2;255;70;137;48;2;39;40;34m=\u001b[0m\u001b[38;2;248;248;242;48;2;39;40;34m \u001b[0m\u001b[38;2;174;129;255;48;2;39;40;34m384400\u001b[0m\u001b[48;2;39;40;34m                                                                                                                                                                        \u001b[0m  \n",
       "  \u001b[48;2;39;40;34m                                                                                                                                                                                                    \u001b[0m  \n",
       "  \u001b[38;2;149;144;119;48;2;39;40;34m# Average cruising speed of a commercial airplane in km/h\u001b[0m\u001b[48;2;39;40;34m                                                                                                                                           \u001b[0m  \n",
       "  \u001b[38;2;248;248;242;48;2;39;40;34maverage_plane_speed_km_h\u001b[0m\u001b[38;2;248;248;242;48;2;39;40;34m \u001b[0m\u001b[38;2;255;70;137;48;2;39;40;34m=\u001b[0m\u001b[38;2;248;248;242;48;2;39;40;34m \u001b[0m\u001b[38;2;174;129;255;48;2;39;40;34m900\u001b[0m\u001b[38;2;248;248;242;48;2;39;40;34m  \u001b[0m\u001b[38;2;149;144;119;48;2;39;40;34m# Taking the midpoint of 880 to 926 km/h\u001b[0m\u001b[48;2;39;40;34m                                                                                                                            \u001b[0m  \n",
       "  \u001b[48;2;39;40;34m                                                                                                                                                                                                    \u001b[0m  \n",
       "  \u001b[38;2;149;144;119;48;2;39;40;34m# Calculate the time it would take to travel from Earth to Moon in hours\u001b[0m\u001b[48;2;39;40;34m                                                                                                                            \u001b[0m  \n",
       "  \u001b[38;2;248;248;242;48;2;39;40;34mtime_to_moon_hours\u001b[0m\u001b[38;2;248;248;242;48;2;39;40;34m \u001b[0m\u001b[38;2;255;70;137;48;2;39;40;34m=\u001b[0m\u001b[38;2;248;248;242;48;2;39;40;34m \u001b[0m\u001b[38;2;248;248;242;48;2;39;40;34mdistance_to_moon_km\u001b[0m\u001b[38;2;248;248;242;48;2;39;40;34m \u001b[0m\u001b[38;2;255;70;137;48;2;39;40;34m/\u001b[0m\u001b[38;2;248;248;242;48;2;39;40;34m \u001b[0m\u001b[38;2;248;248;242;48;2;39;40;34maverage_plane_speed_km_h\u001b[0m\u001b[48;2;39;40;34m                                                                                                                                 \u001b[0m  \n",
       "  \u001b[38;2;248;248;242;48;2;39;40;34mprint\u001b[0m\u001b[38;2;248;248;242;48;2;39;40;34m(\u001b[0m\u001b[38;2;230;219;116;48;2;39;40;34m\"\u001b[0m\u001b[38;2;230;219;116;48;2;39;40;34mTime to reach the Moon using a plane:\u001b[0m\u001b[38;2;230;219;116;48;2;39;40;34m\"\u001b[0m\u001b[38;2;248;248;242;48;2;39;40;34m,\u001b[0m\u001b[38;2;248;248;242;48;2;39;40;34m \u001b[0m\u001b[38;2;248;248;242;48;2;39;40;34mtime_to_moon_hours\u001b[0m\u001b[38;2;248;248;242;48;2;39;40;34m,\u001b[0m\u001b[38;2;248;248;242;48;2;39;40;34m \u001b[0m\u001b[38;2;230;219;116;48;2;39;40;34m\"\u001b[0m\u001b[38;2;230;219;116;48;2;39;40;34mhours\u001b[0m\u001b[38;2;230;219;116;48;2;39;40;34m\"\u001b[0m\u001b[38;2;248;248;242;48;2;39;40;34m)\u001b[0m\u001b[48;2;39;40;34m                                                                                                                         \u001b[0m  \n",
       " ────────────────────────────────────────────────────────────────────────────────────────────────────────────────────────────────────────────────────────────────────────────────────────────────────── \n"
      ]
     },
     "metadata": {},
     "output_type": "display_data"
    },
    {
     "data": {
      "text/html": [
       "<pre style=\"white-space:pre;overflow-x:auto;line-height:normal;font-family:Menlo,'DejaVu Sans Mono',consolas,'Courier New',monospace\"><span style=\"font-weight: bold\">Execution logs:</span>\n",
       "Time to reach the Moon using a plane: 427.1111111111111 hours\n",
       "\n",
       "Out: None\n",
       "</pre>\n"
      ],
      "text/plain": [
       "\u001b[1mExecution logs:\u001b[0m\n",
       "Time to reach the Moon using a plane: 427.1111111111111 hours\n",
       "\n",
       "Out: None\n"
      ]
     },
     "metadata": {},
     "output_type": "display_data"
    },
    {
     "data": {
      "text/html": [
       "<pre style=\"white-space:pre;overflow-x:auto;line-height:normal;font-family:Menlo,'DejaVu Sans Mono',consolas,'Courier New',monospace\"><span style=\"color: #7f7f7f; text-decoration-color: #7f7f7f\">[Step 1: Duration 6.67 seconds| Input tokens: 6,263 | Output tokens: 342]</span>\n",
       "</pre>\n"
      ],
      "text/plain": [
       "\u001b[2m[Step 1: Duration 6.67 seconds| Input tokens: 6,263 | Output tokens: 342]\u001b[0m\n"
      ]
     },
     "metadata": {},
     "output_type": "display_data"
    },
    {
     "data": {
      "text/html": [
       "<pre style=\"white-space:pre;overflow-x:auto;line-height:normal;font-family:Menlo,'DejaVu Sans Mono',consolas,'Courier New',monospace\"><span style=\"color: #d4b702; text-decoration-color: #d4b702\">━━━━━━━━━━━━━━━━━━━━━━━━━━━━━━━━━━━━━━━━━━━━━━━━━━━━━━━━━━━━━━━━━━━━━━━━━━━━━━━━━━━━━━━━━━━━━━━━ </span><span style=\"font-weight: bold\">Step </span><span style=\"color: #008080; text-decoration-color: #008080; font-weight: bold\">2</span><span style=\"color: #d4b702; text-decoration-color: #d4b702\"> ━━━━━━━━━━━━━━━━━━━━━━━━━━━━━━━━━━━━━━━━━━━━━━━━━━━━━━━━━━━━━━━━━━━━━━━━━━━━━━━━━━━━━━━━━━━━━━━━</span>\n",
       "</pre>\n"
      ],
      "text/plain": [
       "\u001b[38;2;212;183;2m━━━━━━━━━━━━━━━━━━━━━━━━━━━━━━━━━━━━━━━━━━━━━━━━━━━━━━━━━━━━━━━━━━━━━━━━━━━━━━━━━━━━━━━━━━━━━━━━ \u001b[0m\u001b[1mStep \u001b[0m\u001b[1;36m2\u001b[0m\u001b[38;2;212;183;2m ━━━━━━━━━━━━━━━━━━━━━━━━━━━━━━━━━━━━━━━━━━━━━━━━━━━━━━━━━━━━━━━━━━━━━━━━━━━━━━━━━━━━━━━━━━━━━━━━\u001b[0m\n"
      ]
     },
     "metadata": {},
     "output_type": "display_data"
    },
    {
     "data": {
      "text/html": [
       "<pre style=\"white-space:pre;overflow-x:auto;line-height:normal;font-family:Menlo,'DejaVu Sans Mono',consolas,'Courier New',monospace\"> ─ <span style=\"font-weight: bold\">Executing this code:</span> ─────────────────────────────────────────────────────────────────────────────────────────────────────────────────────────────────────────────────────────────────────────────── \n",
       "  <span style=\"color: #959077; text-decoration-color: #959077; background-color: #272822\"># Convert hours to days and hours</span><span style=\"background-color: #272822\">                                                                                                                                                                   </span>  \n",
       "  <span style=\"color: #f8f8f2; text-decoration-color: #f8f8f2; background-color: #272822\">days </span><span style=\"color: #ff4689; text-decoration-color: #ff4689; background-color: #272822\">=</span><span style=\"color: #f8f8f2; text-decoration-color: #f8f8f2; background-color: #272822\"> int(time_to_moon_hours </span><span style=\"color: #ff4689; text-decoration-color: #ff4689; background-color: #272822\">//</span><span style=\"color: #f8f8f2; text-decoration-color: #f8f8f2; background-color: #272822\"> </span><span style=\"color: #ae81ff; text-decoration-color: #ae81ff; background-color: #272822\">24</span><span style=\"color: #f8f8f2; text-decoration-color: #f8f8f2; background-color: #272822\">)</span><span style=\"background-color: #272822\">                                                                                                                                                                </span>  \n",
       "  <span style=\"color: #f8f8f2; text-decoration-color: #f8f8f2; background-color: #272822\">hours </span><span style=\"color: #ff4689; text-decoration-color: #ff4689; background-color: #272822\">=</span><span style=\"color: #f8f8f2; text-decoration-color: #f8f8f2; background-color: #272822\"> time_to_moon_hours </span><span style=\"color: #ff4689; text-decoration-color: #ff4689; background-color: #272822\">%</span><span style=\"color: #f8f8f2; text-decoration-color: #f8f8f2; background-color: #272822\"> </span><span style=\"color: #ae81ff; text-decoration-color: #ae81ff; background-color: #272822\">24</span><span style=\"background-color: #272822\">                                                                                                                                                                     </span>  \n",
       "  <span style=\"background-color: #272822\">                                                                                                                                                                                                    </span>  \n",
       "  <span style=\"color: #f8f8f2; text-decoration-color: #f8f8f2; background-color: #272822\">print(</span><span style=\"color: #e6db74; text-decoration-color: #e6db74; background-color: #272822\">f\"Time to reach the Moon using a plane: {</span><span style=\"color: #f8f8f2; text-decoration-color: #f8f8f2; background-color: #272822\">days</span><span style=\"color: #e6db74; text-decoration-color: #e6db74; background-color: #272822\">} days and {</span><span style=\"color: #f8f8f2; text-decoration-color: #f8f8f2; background-color: #272822\">hours</span><span style=\"color: #e6db74; text-decoration-color: #e6db74; background-color: #272822\">:.2f} hours\"</span><span style=\"color: #f8f8f2; text-decoration-color: #f8f8f2; background-color: #272822\">)</span><span style=\"background-color: #272822\">                                                                                                                   </span>  \n",
       "  <span style=\"color: #f8f8f2; text-decoration-color: #f8f8f2; background-color: #272822\">final_answer(</span><span style=\"color: #e6db74; text-decoration-color: #e6db74; background-color: #272822\">f\"{</span><span style=\"color: #f8f8f2; text-decoration-color: #f8f8f2; background-color: #272822\">days</span><span style=\"color: #e6db74; text-decoration-color: #e6db74; background-color: #272822\">} days and {</span><span style=\"color: #f8f8f2; text-decoration-color: #f8f8f2; background-color: #272822\">hours</span><span style=\"color: #e6db74; text-decoration-color: #e6db74; background-color: #272822\">:.2f} hours\"</span><span style=\"color: #f8f8f2; text-decoration-color: #f8f8f2; background-color: #272822\">)</span><span style=\"background-color: #272822\">                                                                                                                                                  </span>  \n",
       " ────────────────────────────────────────────────────────────────────────────────────────────────────────────────────────────────────────────────────────────────────────────────────────────────────── \n",
       "</pre>\n"
      ],
      "text/plain": [
       " ─ \u001b[1mExecuting this code:\u001b[0m ─────────────────────────────────────────────────────────────────────────────────────────────────────────────────────────────────────────────────────────────────────────────── \n",
       "  \u001b[38;2;149;144;119;48;2;39;40;34m# Convert hours to days and hours\u001b[0m\u001b[48;2;39;40;34m                                                                                                                                                                   \u001b[0m  \n",
       "  \u001b[38;2;248;248;242;48;2;39;40;34mdays\u001b[0m\u001b[38;2;248;248;242;48;2;39;40;34m \u001b[0m\u001b[38;2;255;70;137;48;2;39;40;34m=\u001b[0m\u001b[38;2;248;248;242;48;2;39;40;34m \u001b[0m\u001b[38;2;248;248;242;48;2;39;40;34mint\u001b[0m\u001b[38;2;248;248;242;48;2;39;40;34m(\u001b[0m\u001b[38;2;248;248;242;48;2;39;40;34mtime_to_moon_hours\u001b[0m\u001b[38;2;248;248;242;48;2;39;40;34m \u001b[0m\u001b[38;2;255;70;137;48;2;39;40;34m/\u001b[0m\u001b[38;2;255;70;137;48;2;39;40;34m/\u001b[0m\u001b[38;2;248;248;242;48;2;39;40;34m \u001b[0m\u001b[38;2;174;129;255;48;2;39;40;34m24\u001b[0m\u001b[38;2;248;248;242;48;2;39;40;34m)\u001b[0m\u001b[48;2;39;40;34m                                                                                                                                                                \u001b[0m  \n",
       "  \u001b[38;2;248;248;242;48;2;39;40;34mhours\u001b[0m\u001b[38;2;248;248;242;48;2;39;40;34m \u001b[0m\u001b[38;2;255;70;137;48;2;39;40;34m=\u001b[0m\u001b[38;2;248;248;242;48;2;39;40;34m \u001b[0m\u001b[38;2;248;248;242;48;2;39;40;34mtime_to_moon_hours\u001b[0m\u001b[38;2;248;248;242;48;2;39;40;34m \u001b[0m\u001b[38;2;255;70;137;48;2;39;40;34m%\u001b[0m\u001b[38;2;248;248;242;48;2;39;40;34m \u001b[0m\u001b[38;2;174;129;255;48;2;39;40;34m24\u001b[0m\u001b[48;2;39;40;34m                                                                                                                                                                     \u001b[0m  \n",
       "  \u001b[48;2;39;40;34m                                                                                                                                                                                                    \u001b[0m  \n",
       "  \u001b[38;2;248;248;242;48;2;39;40;34mprint\u001b[0m\u001b[38;2;248;248;242;48;2;39;40;34m(\u001b[0m\u001b[38;2;230;219;116;48;2;39;40;34mf\u001b[0m\u001b[38;2;230;219;116;48;2;39;40;34m\"\u001b[0m\u001b[38;2;230;219;116;48;2;39;40;34mTime to reach the Moon using a plane: \u001b[0m\u001b[38;2;230;219;116;48;2;39;40;34m{\u001b[0m\u001b[38;2;248;248;242;48;2;39;40;34mdays\u001b[0m\u001b[38;2;230;219;116;48;2;39;40;34m}\u001b[0m\u001b[38;2;230;219;116;48;2;39;40;34m days and \u001b[0m\u001b[38;2;230;219;116;48;2;39;40;34m{\u001b[0m\u001b[38;2;248;248;242;48;2;39;40;34mhours\u001b[0m\u001b[38;2;230;219;116;48;2;39;40;34m:\u001b[0m\u001b[38;2;230;219;116;48;2;39;40;34m.2f\u001b[0m\u001b[38;2;230;219;116;48;2;39;40;34m}\u001b[0m\u001b[38;2;230;219;116;48;2;39;40;34m hours\u001b[0m\u001b[38;2;230;219;116;48;2;39;40;34m\"\u001b[0m\u001b[38;2;248;248;242;48;2;39;40;34m)\u001b[0m\u001b[48;2;39;40;34m                                                                                                                   \u001b[0m  \n",
       "  \u001b[38;2;248;248;242;48;2;39;40;34mfinal_answer\u001b[0m\u001b[38;2;248;248;242;48;2;39;40;34m(\u001b[0m\u001b[38;2;230;219;116;48;2;39;40;34mf\u001b[0m\u001b[38;2;230;219;116;48;2;39;40;34m\"\u001b[0m\u001b[38;2;230;219;116;48;2;39;40;34m{\u001b[0m\u001b[38;2;248;248;242;48;2;39;40;34mdays\u001b[0m\u001b[38;2;230;219;116;48;2;39;40;34m}\u001b[0m\u001b[38;2;230;219;116;48;2;39;40;34m days and \u001b[0m\u001b[38;2;230;219;116;48;2;39;40;34m{\u001b[0m\u001b[38;2;248;248;242;48;2;39;40;34mhours\u001b[0m\u001b[38;2;230;219;116;48;2;39;40;34m:\u001b[0m\u001b[38;2;230;219;116;48;2;39;40;34m.2f\u001b[0m\u001b[38;2;230;219;116;48;2;39;40;34m}\u001b[0m\u001b[38;2;230;219;116;48;2;39;40;34m hours\u001b[0m\u001b[38;2;230;219;116;48;2;39;40;34m\"\u001b[0m\u001b[38;2;248;248;242;48;2;39;40;34m)\u001b[0m\u001b[48;2;39;40;34m                                                                                                                                                  \u001b[0m  \n",
       " ────────────────────────────────────────────────────────────────────────────────────────────────────────────────────────────────────────────────────────────────────────────────────────────────────── \n"
      ]
     },
     "metadata": {},
     "output_type": "display_data"
    },
    {
     "data": {
      "text/html": [
       "<pre style=\"white-space:pre;overflow-x:auto;line-height:normal;font-family:Menlo,'DejaVu Sans Mono',consolas,'Courier New',monospace\"><span style=\"font-weight: bold\">Execution logs:</span>\n",
       "Time to reach the Moon using a plane: 17 days and 19.111111111111086 hours\n",
       "\n",
       "<span style=\"color: #d4b702; text-decoration-color: #d4b702; font-weight: bold\">Out - Final answer: 17 days and 19.111111111111086 hours</span>\n",
       "</pre>\n"
      ],
      "text/plain": [
       "\u001b[1mExecution logs:\u001b[0m\n",
       "Time to reach the Moon using a plane: 17 days and 19.111111111111086 hours\n",
       "\n",
       "\u001b[1;38;2;212;183;2mOut - Final answer: 17 days and 19.111111111111086 hours\u001b[0m\n"
      ]
     },
     "metadata": {},
     "output_type": "display_data"
    },
    {
     "data": {
      "text/html": [
       "<pre style=\"white-space:pre;overflow-x:auto;line-height:normal;font-family:Menlo,'DejaVu Sans Mono',consolas,'Courier New',monospace\"><span style=\"color: #7f7f7f; text-decoration-color: #7f7f7f\">[Step 2: Duration 4.06 seconds| Input tokens: 10,907 | Output tokens: 473]</span>\n",
       "</pre>\n"
      ],
      "text/plain": [
       "\u001b[2m[Step 2: Duration 4.06 seconds| Input tokens: 10,907 | Output tokens: 473]\u001b[0m\n"
      ]
     },
     "metadata": {},
     "output_type": "display_data"
    },
    {
     "name": "stdout",
     "output_type": "stream",
     "text": [
      "17 days and 19.111111111111086 hours\n"
     ]
    }
   ],
   "source": [
    "\"\"\"\n",
    "This script demonstrates how to set up and use Smol Agent with selected tools.\n",
    "It utilizes DuckDuckGoSearchTool for web-based queries and HfApiModel as the underlying\n",
    "AI model. Smol Agent provides a lightweight, efficient framework for building intelligent agents.\n",
    "\n",
    "Requirements:\n",
    "- Install the `smolagents` library via pip if not already installed.\n",
    "\"\"\"\n",
    "\n",
    "from smolagents import CodeAgent, DuckDuckGoSearchTool, HfApiModel\n",
    "\n",
    "# Initialize the Smol Agent with tools and a model\n",
    "agent = CodeAgent(\n",
    "    tools=[DuckDuckGoSearchTool()],  # Add web-search capabilities via DuckDuckGo\n",
    "    model=HfApiModel()              # Use Hugging Face API as the default model\n",
    ")\n",
    "\n",
    "# Run a query using the agent\n",
    "response = agent.run(\n",
    "    \"lets assume its possible to fly using plane to then moon how many hrs it will take to reach moon?\"\n",
    ")\n",
    "\n",
    "# Display the agent's output\n",
    "print(response)"
   ]
  }
 ],
 "metadata": {
  "kernelspec": {
   "display_name": "smol_env",
   "language": "python",
   "name": "python3"
  },
  "language_info": {
   "codemirror_mode": {
    "name": "ipython",
    "version": 3
   },
   "file_extension": ".py",
   "mimetype": "text/x-python",
   "name": "python",
   "nbconvert_exporter": "python",
   "pygments_lexer": "ipython3",
   "version": "3.12.6"
  }
 },
 "nbformat": 4,
 "nbformat_minor": 2
}
